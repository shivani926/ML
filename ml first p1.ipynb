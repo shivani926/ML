{
 "cells": [
  {
   "cell_type": "markdown",
   "id": "457def96",
   "metadata": {},
   "source": [
    "# Matrix and Vectors"
   ]
  },
  {
   "cell_type": "code",
   "execution_count": 1,
   "id": "8b195171",
   "metadata": {},
   "outputs": [],
   "source": [
    "import pandas as pd\n",
    "import numpy as np"
   ]
  },
  {
   "cell_type": "code",
   "execution_count": 3,
   "id": "b0ad09f1",
   "metadata": {},
   "outputs": [
    {
     "name": "stdout",
     "output_type": "stream",
     "text": [
      "[[1 2 3]\n",
      " [4 5 6]]\n"
     ]
    }
   ],
   "source": [
    "from numpy import array\n",
    "a=array([[1,2,3],[4,5,6]])\n",
    "print(a)\n"
   ]
  },
  {
   "cell_type": "code",
   "execution_count": 4,
   "id": "ff6fb59a",
   "metadata": {},
   "outputs": [
    {
     "name": "stdout",
     "output_type": "stream",
     "text": [
      "[[ 2  4  6]\n",
      " [ 8 10 12]]\n"
     ]
    }
   ],
   "source": [
    "a=array([[1,2,3],[4,5,6]])\n",
    "b=array([[1,2,3],[4,5,6]])\n",
    "print(a+b)"
   ]
  },
  {
   "cell_type": "code",
   "execution_count": 5,
   "id": "7530649b",
   "metadata": {},
   "outputs": [
    {
     "name": "stdout",
     "output_type": "stream",
     "text": [
      "[[0 0 0]\n",
      " [0 0 0]]\n"
     ]
    }
   ],
   "source": [
    "print(a-b)"
   ]
  },
  {
   "cell_type": "code",
   "execution_count": 6,
   "id": "1570e7f4",
   "metadata": {},
   "outputs": [
    {
     "name": "stdout",
     "output_type": "stream",
     "text": [
      "[[ 1  4  9]\n",
      " [16 25 36]]\n"
     ]
    }
   ],
   "source": [
    "print(a*b)"
   ]
  },
  {
   "cell_type": "code",
   "execution_count": 7,
   "id": "e0633d15",
   "metadata": {},
   "outputs": [
    {
     "name": "stdout",
     "output_type": "stream",
     "text": [
      "[[1. 1. 1.]\n",
      " [1. 1. 1.]]\n"
     ]
    }
   ],
   "source": [
    "print(a/b)"
   ]
  },
  {
   "cell_type": "code",
   "execution_count": 10,
   "id": "c574e47c",
   "metadata": {},
   "outputs": [
    {
     "name": "stdout",
     "output_type": "stream",
     "text": [
      "[['mon' '1' '2' '3']\n",
      " ['tue' '4' '5' '6']\n",
      " ['wed' '3' '2' '1']\n",
      " ['thu' '6' '4' '3']]\n"
     ]
    }
   ],
   "source": [
    "from numpy import *\n",
    "wd=array([['mon',1,2,3],\n",
    "['tue',4,5,6],\n",
    "['wed',3,2,1],\n",
    "['thu',6,4,3]])\n",
    "print(wd)"
   ]
  },
  {
   "cell_type": "code",
   "execution_count": 16,
   "id": "f613f2c3",
   "metadata": {},
   "outputs": [
    {
     "name": "stdout",
     "output_type": "stream",
     "text": [
      "['tue' '4' '5' '6']\n"
     ]
    }
   ],
   "source": [
    "print(wd[1])"
   ]
  },
  {
   "cell_type": "code",
   "execution_count": 17,
   "id": "89687df6",
   "metadata": {},
   "outputs": [
    {
     "name": "stdout",
     "output_type": "stream",
     "text": [
      "5\n"
     ]
    }
   ],
   "source": [
    "print(wd[1][2])"
   ]
  },
  {
   "cell_type": "code",
   "execution_count": 19,
   "id": "98792519",
   "metadata": {},
   "outputs": [
    {
     "name": "stdout",
     "output_type": "stream",
     "text": [
      "[['mon' '1' '2' '3']\n",
      " ['tue' '4' '5' '6']\n",
      " ['wed' '3' '2' '1']\n",
      " ['thu' '6' '4' '3']\n",
      " ['fri' '3' '6' '9']]\n"
     ]
    }
   ],
   "source": [
    "wd_a=append(wd,[['fri',3,6,9]],0)\n",
    "print(wd_a)"
   ]
  },
  {
   "cell_type": "code",
   "execution_count": 32,
   "id": "595463bf",
   "metadata": {},
   "outputs": [
    {
     "name": "stdout",
     "output_type": "stream",
     "text": [
      "[['mon' '1' '4' '2' '3']\n",
      " ['tue' '4' '3' '5' '6']\n",
      " ['wed' '3' '2' '2' '1']\n",
      " ['thu' '6' '7' '4' '3']]\n"
     ]
    }
   ],
   "source": [
    "wd_b=insert(wd,[2],[[4],[3],[2],[7]],1)\n",
    "print(wd_b)"
   ]
  },
  {
   "cell_type": "code",
   "execution_count": null,
   "id": "7794a113",
   "metadata": {},
   "outputs": [],
   "source": []
  }
 ],
 "metadata": {
  "kernelspec": {
   "display_name": "Python 3 (ipykernel)",
   "language": "python",
   "name": "python3"
  },
  "language_info": {
   "codemirror_mode": {
    "name": "ipython",
    "version": 3
   },
   "file_extension": ".py",
   "mimetype": "text/x-python",
   "name": "python",
   "nbconvert_exporter": "python",
   "pygments_lexer": "ipython3",
   "version": "3.9.7"
  }
 },
 "nbformat": 4,
 "nbformat_minor": 5
}
